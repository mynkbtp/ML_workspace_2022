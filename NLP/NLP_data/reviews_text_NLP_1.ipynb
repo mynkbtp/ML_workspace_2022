{
 "cells": [
  {
   "cell_type": "code",
   "execution_count": 1,
   "metadata": {},
   "outputs": [],
   "source": [
    "import pandas as pd\n",
    "import numpy as np\n",
    "import nltk\n",
    "import seaborn as sns\n",
    "from matplotlib import pyplot as plt\n",
    "import plotly.express as px\n"
   ]
  },
  {
   "cell_type": "code",
   "execution_count": 2,
   "metadata": {},
   "outputs": [
    {
     "name": "stdout",
     "output_type": "stream",
     "text": [
      "(1130017, 8)\n"
     ]
    },
    {
     "data": {
      "text/html": [
       "<div>\n",
       "<style scoped>\n",
       "    .dataframe tbody tr th:only-of-type {\n",
       "        vertical-align: middle;\n",
       "    }\n",
       "\n",
       "    .dataframe tbody tr th {\n",
       "        vertical-align: top;\n",
       "    }\n",
       "\n",
       "    .dataframe thead th {\n",
       "        text-align: right;\n",
       "    }\n",
       "</style>\n",
       "<table border=\"1\" class=\"dataframe\">\n",
       "  <thead>\n",
       "    <tr style=\"text-align: right;\">\n",
       "      <th></th>\n",
       "      <th>rotten_tomatoes_link</th>\n",
       "      <th>critic_name</th>\n",
       "      <th>top_critic</th>\n",
       "      <th>publisher_name</th>\n",
       "      <th>review_type</th>\n",
       "      <th>review_score</th>\n",
       "      <th>review_date</th>\n",
       "      <th>review_content</th>\n",
       "    </tr>\n",
       "  </thead>\n",
       "  <tbody>\n",
       "    <tr>\n",
       "      <th>0</th>\n",
       "      <td>m/0814255</td>\n",
       "      <td>Andrew L. Urban</td>\n",
       "      <td>False</td>\n",
       "      <td>Urban Cinefile</td>\n",
       "      <td>Fresh</td>\n",
       "      <td>NaN</td>\n",
       "      <td>2010-02-06</td>\n",
       "      <td>A fantasy adventure that fuses Greek mythology...</td>\n",
       "    </tr>\n",
       "    <tr>\n",
       "      <th>1</th>\n",
       "      <td>m/0814255</td>\n",
       "      <td>Louise Keller</td>\n",
       "      <td>False</td>\n",
       "      <td>Urban Cinefile</td>\n",
       "      <td>Fresh</td>\n",
       "      <td>NaN</td>\n",
       "      <td>2010-02-06</td>\n",
       "      <td>Uma Thurman as Medusa, the gorgon with a coiff...</td>\n",
       "    </tr>\n",
       "    <tr>\n",
       "      <th>2</th>\n",
       "      <td>m/0814255</td>\n",
       "      <td>NaN</td>\n",
       "      <td>False</td>\n",
       "      <td>FILMINK (Australia)</td>\n",
       "      <td>Fresh</td>\n",
       "      <td>NaN</td>\n",
       "      <td>2010-02-09</td>\n",
       "      <td>With a top-notch cast and dazzling special eff...</td>\n",
       "    </tr>\n",
       "    <tr>\n",
       "      <th>3</th>\n",
       "      <td>m/0814255</td>\n",
       "      <td>Ben McEachen</td>\n",
       "      <td>False</td>\n",
       "      <td>Sunday Mail (Australia)</td>\n",
       "      <td>Fresh</td>\n",
       "      <td>3.5/5</td>\n",
       "      <td>2010-02-09</td>\n",
       "      <td>Whether audiences will get behind The Lightnin...</td>\n",
       "    </tr>\n",
       "    <tr>\n",
       "      <th>4</th>\n",
       "      <td>m/0814255</td>\n",
       "      <td>Ethan Alter</td>\n",
       "      <td>True</td>\n",
       "      <td>Hollywood Reporter</td>\n",
       "      <td>Rotten</td>\n",
       "      <td>NaN</td>\n",
       "      <td>2010-02-10</td>\n",
       "      <td>What's really lacking in The Lightning Thief i...</td>\n",
       "    </tr>\n",
       "  </tbody>\n",
       "</table>\n",
       "</div>"
      ],
      "text/plain": [
       "  rotten_tomatoes_link      critic_name  top_critic           publisher_name  \\\n",
       "0            m/0814255  Andrew L. Urban       False           Urban Cinefile   \n",
       "1            m/0814255    Louise Keller       False           Urban Cinefile   \n",
       "2            m/0814255              NaN       False      FILMINK (Australia)   \n",
       "3            m/0814255     Ben McEachen       False  Sunday Mail (Australia)   \n",
       "4            m/0814255      Ethan Alter        True       Hollywood Reporter   \n",
       "\n",
       "  review_type review_score review_date  \\\n",
       "0       Fresh          NaN  2010-02-06   \n",
       "1       Fresh          NaN  2010-02-06   \n",
       "2       Fresh          NaN  2010-02-09   \n",
       "3       Fresh        3.5/5  2010-02-09   \n",
       "4      Rotten          NaN  2010-02-10   \n",
       "\n",
       "                                      review_content  \n",
       "0  A fantasy adventure that fuses Greek mythology...  \n",
       "1  Uma Thurman as Medusa, the gorgon with a coiff...  \n",
       "2  With a top-notch cast and dazzling special eff...  \n",
       "3  Whether audiences will get behind The Lightnin...  \n",
       "4  What's really lacking in The Lightning Thief i...  "
      ]
     },
     "execution_count": 2,
     "metadata": {},
     "output_type": "execute_result"
    }
   ],
   "source": [
    "reviews_df = pd.read_csv(\"D:/ML_2022/ML_workspace_2022/NLP/NLP_data/rotten_tomatoes_critic_reviews.csv\")\n",
    "print(reviews_df.shape)\n",
    "reviews_df.head(5)"
   ]
  },
  {
   "cell_type": "code",
   "execution_count": 4,
   "metadata": {},
   "outputs": [
    {
     "data": {
      "text/plain": [
       "rotten_tomatoes_link         0\n",
       "critic_name              18529\n",
       "top_critic                   0\n",
       "publisher_name               0\n",
       "review_type                  0\n",
       "review_score            305936\n",
       "review_date                  0\n",
       "review_content           65806\n",
       "dtype: int64"
      ]
     },
     "execution_count": 4,
     "metadata": {},
     "output_type": "execute_result"
    }
   ],
   "source": [
    "reviews_df.isna().sum()"
   ]
  },
  {
   "cell_type": "code",
   "execution_count": 22,
   "metadata": {},
   "outputs": [],
   "source": [
    "from nltk.stem import PorterStemmer\n",
    "from nltk.stem import WordNetLemmatizer\n",
    "from nltk.corpus import stopwords\n",
    "import re"
   ]
  },
  {
   "cell_type": "code",
   "execution_count": 18,
   "metadata": {},
   "outputs": [
    {
     "name": "stdout",
     "output_type": "stream",
     "text": [
      "Stemmer: histor\n",
      "lemmatiser: historical\n",
      "--------------------------\n",
      "Stemmer: final\n",
      "lemmatiser: finally\n",
      "--------------------------\n",
      "Stemmer: suspect\n",
      "lemmatiser: suspectful\n",
      "--------------------------\n",
      "Stemmer: go\n",
      "lemmatiser: going\n",
      "--------------------------\n",
      "Stemmer: make\n",
      "lemmatiser: making\n",
      "--------------------------\n",
      "Stemmer: develop\n",
      "lemmatiser: developing\n",
      "--------------------------\n",
      "Stemmer: goe\n",
      "lemmatiser: go\n",
      "--------------------------\n"
     ]
    }
   ],
   "source": [
    "stemmer = PorterStemmer()\n",
    "lem = WordNetLemmatizer()\n",
    "\n",
    "word_list = [\"historical\",\"finally\",\"suspectful\",\"going\",\"making\",\"developing\",\"goes\"]\n",
    "for word in word_list:\n",
    "    print(\"Stemmer:\",stemmer.stem(word))\n",
    "    print(\"lemmatiser:\",lem.lemmatize(word))\n",
    "    print(\"--------------------------\")"
   ]
  },
  {
   "cell_type": "code",
   "execution_count": 19,
   "metadata": {},
   "outputs": [
    {
     "name": "stdout",
     "output_type": "stream",
     "text": [
      "Reuniting in the present, the Avengers place the Stones into a gauntlet that Stark, Banner, and Rocket had built. Having the most resistance to their radiation, Banner wields the gauntlet and reverses Thanos's disintegrations. Meanwhile, 2014-Nebula, impersonating her future self, uses the time machine to transport 2014-Thanos and his warship to the present, which he then uses to destroy the Avengers Compound. Present-day Nebula convinces 2014-Gamora to betray Thanos, but is unable to convince 2014-Nebula and kills her. Thanos overpowers Stark, Thor, and a Mjolnir-wielding Rogers and summons his army to retrieve the Stones, intent on using them to destroy the universe and create a new one. A restored Stephen Strange arrives with other sorcerers, the restored Avengers and Guardians of the Galaxy, the Ravagers, and the armies of Wakanda and Asgard to fight Thanos's army. Danvers also arrives and destroys Thanos's warship, but Thanos overpowers her and seizes the gauntlet. Stark steals the Stones and uses them to disintegrate Thanos and his army, at the cost of his life.\n"
     ]
    }
   ],
   "source": [
    "para =\"Reuniting in the present, the Avengers place the Stones into a gauntlet that Stark, Banner, and Rocket had built. Having the most resistance to their radiation, Banner wields the gauntlet and reverses Thanos's disintegrations. Meanwhile, 2014-Nebula, impersonating her future self, uses the time machine to transport 2014-Thanos and his warship to the present, which he then uses to destroy the Avengers Compound. Present-day Nebula convinces 2014-Gamora to betray Thanos, but is unable to convince 2014-Nebula and kills her. Thanos overpowers Stark, Thor, and a Mjolnir-wielding Rogers and summons his army to retrieve the Stones, intent on using them to destroy the universe and create a new one. A restored Stephen Strange arrives with other sorcerers, the restored Avengers and Guardians of the Galaxy, the Ravagers, and the armies of Wakanda and Asgard to fight Thanos's army. Danvers also arrives and destroys Thanos's warship, but Thanos overpowers her and seizes the gauntlet. Stark steals the Stones and uses them to disintegrate Thanos and his army, at the cost of his life.\"\n",
    "print(para)"
   ]
  },
  {
   "cell_type": "code",
   "execution_count": 20,
   "metadata": {},
   "outputs": [
    {
     "name": "stdout",
     "output_type": "stream",
     "text": [
      "[nltk_data] Downloading package punkt to\n",
      "[nltk_data]     C:\\Users\\MAYANK\\AppData\\Roaming\\nltk_data...\n",
      "[nltk_data]   Package punkt is already up-to-date!\n"
     ]
    }
   ],
   "source": [
    "# tokenisation- sentence tokeniser splits the paragraphs into list of sentences\n",
    "nltk.download('punkt')\n",
    "sentences = nltk.sent_tokenize(para)"
   ]
  },
  {
   "cell_type": "code",
   "execution_count": 21,
   "metadata": {},
   "outputs": [
    {
     "data": {
      "text/plain": [
       "['Reuniting in the present, the Avengers place the Stones into a gauntlet that Stark, Banner, and Rocket had built.',\n",
       " \"Having the most resistance to their radiation, Banner wields the gauntlet and reverses Thanos's disintegrations.\",\n",
       " 'Meanwhile, 2014-Nebula, impersonating her future self, uses the time machine to transport 2014-Thanos and his warship to the present, which he then uses to destroy the Avengers Compound.',\n",
       " 'Present-day Nebula convinces 2014-Gamora to betray Thanos, but is unable to convince 2014-Nebula and kills her.',\n",
       " 'Thanos overpowers Stark, Thor, and a Mjolnir-wielding Rogers and summons his army to retrieve the Stones, intent on using them to destroy the universe and create a new one.',\n",
       " \"A restored Stephen Strange arrives with other sorcerers, the restored Avengers and Guardians of the Galaxy, the Ravagers, and the armies of Wakanda and Asgard to fight Thanos's army.\",\n",
       " \"Danvers also arrives and destroys Thanos's warship, but Thanos overpowers her and seizes the gauntlet.\",\n",
       " 'Stark steals the Stones and uses them to disintegrate Thanos and his army, at the cost of his life.']"
      ]
     },
     "execution_count": 21,
     "metadata": {},
     "output_type": "execute_result"
    }
   ],
   "source": [
    "sentences"
   ]
  },
  {
   "cell_type": "code",
   "execution_count": 25,
   "metadata": {},
   "outputs": [],
   "source": [
    "def text_clean(sent):\n",
    "    review = re.sub('[^a-zA-Z]',' ',sent)\n",
    "    review =review.lower()\n",
    "    return review\n"
   ]
  },
  {
   "cell_type": "code",
   "execution_count": 28,
   "metadata": {},
   "outputs": [
    {
     "name": "stdout",
     "output_type": "stream",
     "text": [
      "reuniting in the present  the avengers place the stones into a gauntlet that stark  banner  and rocket had built \n",
      "----------\n",
      "having the most resistance to their radiation  banner wields the gauntlet and reverses thanos s disintegrations \n",
      "----------\n",
      "meanwhile       nebula  impersonating her future self  uses the time machine to transport      thanos and his warship to the present  which he then uses to destroy the avengers compound \n",
      "----------\n",
      "present day nebula convinces      gamora to betray thanos  but is unable to convince      nebula and kills her \n",
      "----------\n",
      "thanos overpowers stark  thor  and a mjolnir wielding rogers and summons his army to retrieve the stones  intent on using them to destroy the universe and create a new one \n",
      "----------\n",
      "a restored stephen strange arrives with other sorcerers  the restored avengers and guardians of the galaxy  the ravagers  and the armies of wakanda and asgard to fight thanos s army \n",
      "----------\n",
      "danvers also arrives and destroys thanos s warship  but thanos overpowers her and seizes the gauntlet \n",
      "----------\n",
      "stark steals the stones and uses them to disintegrate thanos and his army  at the cost of his life \n",
      "----------\n"
     ]
    }
   ],
   "source": [
    "corpus=[]\n",
    "for sent in sentences:\n",
    "    cleaned_sent = text_clean(sent)\n",
    "    print(cleaned_sent)\n",
    "    print(\"----------\")\n",
    "    corpus.append(cleaned_sent)"
   ]
  },
  {
   "cell_type": "code",
   "execution_count": 29,
   "metadata": {},
   "outputs": [
    {
     "data": {
      "text/plain": [
       "['reuniting in the present  the avengers place the stones into a gauntlet that stark  banner  and rocket had built ',\n",
       " 'having the most resistance to their radiation  banner wields the gauntlet and reverses thanos s disintegrations ',\n",
       " 'meanwhile       nebula  impersonating her future self  uses the time machine to transport      thanos and his warship to the present  which he then uses to destroy the avengers compound ',\n",
       " 'present day nebula convinces      gamora to betray thanos  but is unable to convince      nebula and kills her ',\n",
       " 'thanos overpowers stark  thor  and a mjolnir wielding rogers and summons his army to retrieve the stones  intent on using them to destroy the universe and create a new one ',\n",
       " 'a restored stephen strange arrives with other sorcerers  the restored avengers and guardians of the galaxy  the ravagers  and the armies of wakanda and asgard to fight thanos s army ',\n",
       " 'danvers also arrives and destroys thanos s warship  but thanos overpowers her and seizes the gauntlet ',\n",
       " 'stark steals the stones and uses them to disintegrate thanos and his army  at the cost of his life ']"
      ]
     },
     "execution_count": 29,
     "metadata": {},
     "output_type": "execute_result"
    }
   ],
   "source": [
    "corpus"
   ]
  },
  {
   "cell_type": "code",
   "execution_count": 33,
   "metadata": {},
   "outputs": [],
   "source": [
    "from nltk.tokenize import word_tokenize\n",
    "# defining stop words\n",
    "stop_en = set(stopwords.words('english'))\n"
   ]
  },
  {
   "cell_type": "code",
   "execution_count": 52,
   "metadata": {},
   "outputs": [],
   "source": [
    "from nltk.tokenize.treebank import TreebankWordDetokenizer\n",
    "\n",
    "test_corpus = []\n",
    "def nlp_text_clean_pipeline(text):\n",
    "    \n",
    "    text=re.sub('[^a-zA-Z]', \" \", str(text))\n",
    "    text=text.lower()\n",
    "    \n",
    "    word_tokens = word_tokenize(text)\n",
    "    print(\"words tokensised:\\n\",word_tokens)\n",
    "    filtered_words = [w for w in word_tokens if not w in stop_en]\n",
    "    print(\"after removing stop_words:\\n\",filtered_words)\n",
    "\n",
    "    # lemmatising filtered words\n",
    "    lem_words = [lem.lemmatize(w) for w in filtered_words]\n",
    "    print(\"after lemmatisation:\\n\",lem_words)\n",
    "\n",
    "\n",
    "    reformed_clean_text = TreebankWordDetokenizer().detokenize(lem_words)\n",
    "    print(\"reformed clean_text:\\n\",reformed_clean_text)\n",
    "    test_corpus.append(reformed_clean_text)\n",
    "    # return text"
   ]
  },
  {
   "cell_type": "code",
   "execution_count": 49,
   "metadata": {},
   "outputs": [
    {
     "name": "stdout",
     "output_type": "stream",
     "text": [
      "words tokensised:\n",
      " ['present', 'day', 'nebula', 'convinces', 'gamora', 'to', 'betray', 'thanos', 'but', 'is', 'unable', 'to', 'convince', 'nebula', 'and', 'kills', 'her']\n",
      "after removing stop_words:\n",
      " ['present', 'day', 'nebula', 'convinces', 'gamora', 'betray', 'thanos', 'unable', 'convince', 'nebula', 'kills']\n",
      "after lemmatisation:\n",
      " ['present', 'day', 'nebula', 'convinces', 'gamora', 'betray', 'thanos', 'unable', 'convince', 'nebula', 'kill']\n",
      "reformed clean_text:\n",
      " present day nebula convinces gamora betray thanos unable convince nebula kill\n"
     ]
    }
   ],
   "source": [
    "test_sent='Present-day Nebula convinces 2014-Gamora to betray Thanos, but is unable to convince 2014-Nebula and kills her.'\n",
    "nlp_text_clean_pipeline(test_sent)"
   ]
  },
  {
   "cell_type": "code",
   "execution_count": null,
   "metadata": {},
   "outputs": [],
   "source": []
  },
  {
   "cell_type": "code",
   "execution_count": 64,
   "metadata": {},
   "outputs": [
    {
     "name": "stdout",
     "output_type": "stream",
     "text": [
      "words tokensised:\n",
      " ['present', 'day', 'nebula', 'convinces', 'gamora', 'to', 'betray', 'thanos', 'but', 'is', 'unable', 'to', 'convince', 'nebula', 'and', 'kills', 'her']\n",
      "after removing stop_words:\n",
      " ['present', 'day', 'nebula', 'convinces', 'gamora', 'betray', 'thanos', 'unable', 'convince', 'nebula', 'kills']\n",
      "after lemmatisation:\n",
      " ['present', 'day', 'nebula', 'convinces', 'gamora', 'betray', 'thanos', 'unable', 'convince', 'nebula', 'kill']\n",
      "reformed clean_text:\n",
      " present day nebula convinces gamora betray thanos unable convince nebula kill\n"
     ]
    }
   ],
   "source": [
    "test_corpus=[]\n",
    "nlp_text_clean_pipeline(test_sent)"
   ]
  },
  {
   "cell_type": "code",
   "execution_count": 65,
   "metadata": {},
   "outputs": [
    {
     "name": "stdout",
     "output_type": "stream",
     "text": [
      "['present day nebula convinces gamora betray thanos unable convince nebula kill']\n"
     ]
    }
   ],
   "source": [
    "print(test_corpus)"
   ]
  },
  {
   "cell_type": "markdown",
   "metadata": {},
   "source": [
    "Now, that corpus consisting of cleaned text is built, we will build VOCABULARY which is esentially a mapping of each of the unique word and its index in vectorised form"
   ]
  },
  {
   "cell_type": "markdown",
   "metadata": {},
   "source": [
    "BAG OF WORDS:"
   ]
  },
  {
   "cell_type": "code",
   "execution_count": 66,
   "metadata": {},
   "outputs": [],
   "source": [
    "from sklearn.feature_extraction.text import CountVectorizer\n",
    "cv = CountVectorizer()"
   ]
  },
  {
   "cell_type": "code",
   "execution_count": 69,
   "metadata": {},
   "outputs": [],
   "source": [
    "X = cv.fit_transform(test_corpus)"
   ]
  },
  {
   "cell_type": "code",
   "execution_count": 70,
   "metadata": {},
   "outputs": [
    {
     "data": {
      "text/plain": [
       "{'present': 7,\n",
       " 'day': 3,\n",
       " 'nebula': 6,\n",
       " 'convinces': 2,\n",
       " 'gamora': 4,\n",
       " 'betray': 0,\n",
       " 'thanos': 8,\n",
       " 'unable': 9,\n",
       " 'convince': 1,\n",
       " 'kill': 5}"
      ]
     },
     "execution_count": 70,
     "metadata": {},
     "output_type": "execute_result"
    }
   ],
   "source": [
    "# Vacabulary consists of unique words and their index mapping in the vector representation\n",
    "cv.vocabulary_"
   ]
  },
  {
   "cell_type": "code",
   "execution_count": 75,
   "metadata": {},
   "outputs": [
    {
     "name": "stdout",
     "output_type": "stream",
     "text": [
      "--------Actual corpus ---------------\n",
      "['present day nebula convinces gamora betray thanos unable convince nebula kill']\n",
      "----------------BOW representation of corpus ---------\n",
      "[[1 1 1 1 1 1 2 1 1 1]]\n"
     ]
    }
   ],
   "source": [
    "print(\"--------Actual corpus ---------------\")\n",
    "print(test_corpus)\n",
    "print(\"----------------BOW representation of corpus ---------\")\n",
    "print(X.toarray())"
   ]
  },
  {
   "cell_type": "markdown",
   "metadata": {},
   "source": [
    "Notice that BOW doesn't give actual binary 1 and 0 vector representation unless flag binary=TRUE is set. So, to get binary vector rep, set the flag TRue during intialisation of CountVectoriser()\n",
    "\n",
    "cv=CountVectorizer(binary=True)"
   ]
  },
  {
   "cell_type": "markdown",
   "metadata": {},
   "source": [
    "If you want to include n-grams into Count Vectoriser. use flag ngram_range=(1,3) , 1,3 implies that unigram, bigram, trigrams are included in the vectorisation"
   ]
  },
  {
   "cell_type": "code",
   "execution_count": 84,
   "metadata": {},
   "outputs": [
    {
     "data": {
      "text/plain": [
       "{'present': 20,\n",
       " 'day': 9,\n",
       " 'nebula': 16,\n",
       " 'convinces': 6,\n",
       " 'gamora': 12,\n",
       " 'betray': 0,\n",
       " 'thanos': 23,\n",
       " 'unable': 26,\n",
       " 'convince': 3,\n",
       " 'kill': 15,\n",
       " 'present day': 21,\n",
       " 'day nebula': 10,\n",
       " 'nebula convinces': 17,\n",
       " 'convinces gamora': 7,\n",
       " 'gamora betray': 13,\n",
       " 'betray thanos': 1,\n",
       " 'thanos unable': 24,\n",
       " 'unable convince': 27,\n",
       " 'convince nebula': 4,\n",
       " 'nebula kill': 19,\n",
       " 'present day nebula': 22,\n",
       " 'day nebula convinces': 11,\n",
       " 'nebula convinces gamora': 18,\n",
       " 'convinces gamora betray': 8,\n",
       " 'gamora betray thanos': 14,\n",
       " 'betray thanos unable': 2,\n",
       " 'thanos unable convince': 25,\n",
       " 'unable convince nebula': 28,\n",
       " 'convince nebula kill': 5}"
      ]
     },
     "execution_count": 84,
     "metadata": {},
     "output_type": "execute_result"
    }
   ],
   "source": [
    "cv2 = CountVectorizer(binary=True,ngram_range=(1,3))\n",
    "X2=cv2.fit_transform(test_corpus)\n",
    "cv2.vocabulary_"
   ]
  },
  {
   "cell_type": "code",
   "execution_count": 85,
   "metadata": {},
   "outputs": [
    {
     "name": "stdout",
     "output_type": "stream",
     "text": [
      "BOW with 1,2,3-grams included\n",
      "[[1 1 1 1 1 1 1 1 1 1 1 1 1 1 1 1 1 1 1 1 1 1 1 1 1 1 1 1 1]]\n"
     ]
    }
   ],
   "source": [
    "print(\"BOW with 1,2,3-grams included\")\n",
    "print(X2.toarray())"
   ]
  },
  {
   "cell_type": "markdown",
   "metadata": {},
   "source": [
    "TF-IDF:"
   ]
  },
  {
   "cell_type": "code",
   "execution_count": 86,
   "metadata": {},
   "outputs": [
    {
     "name": "stdout",
     "output_type": "stream",
     "text": [
      "{'present': 7, 'day': 3, 'nebula': 6, 'convinces': 2, 'gamora': 4, 'betray': 0, 'thanos': 8, 'unable': 9, 'convince': 1, 'kill': 5}\n"
     ]
    }
   ],
   "source": [
    "from sklearn.feature_extraction.text import TfidfVectorizer\n",
    "\n",
    "tidf = TfidfVectorizer()\n",
    "X3=tidf.fit_transform(test_corpus)\n",
    "\n",
    "print(tidf.vocabulary_)\n"
   ]
  },
  {
   "cell_type": "code",
   "execution_count": 88,
   "metadata": {},
   "outputs": [
    {
     "name": "stdout",
     "output_type": "stream",
     "text": [
      "original corpus:\n",
      " ['present day nebula convinces gamora betray thanos unable convince nebula kill']\n",
      "------------BOW--------------------\n",
      "[[1 1 1 1 1 1 2 1 1 1]]\n",
      "-------------TF-IDF---------------------\n",
      "[[0.2773501 0.2773501 0.2773501 0.2773501 0.2773501 0.2773501 0.5547002\n",
      "  0.2773501 0.2773501 0.2773501]]\n"
     ]
    }
   ],
   "source": [
    "\n",
    "print(\"original corpus:\\n\",test_corpus)\n",
    "print(\"------------BOW--------------------\")\n",
    "print(X.toarray())\n",
    "print(\"-------------TF-IDF---------------------\")\n",
    "print(X3.toarray())"
   ]
  },
  {
   "cell_type": "code",
   "execution_count": null,
   "metadata": {},
   "outputs": [],
   "source": []
  },
  {
   "cell_type": "code",
   "execution_count": null,
   "metadata": {},
   "outputs": [],
   "source": []
  },
  {
   "cell_type": "code",
   "execution_count": null,
   "metadata": {},
   "outputs": [],
   "source": []
  },
  {
   "cell_type": "code",
   "execution_count": null,
   "metadata": {},
   "outputs": [],
   "source": []
  },
  {
   "cell_type": "code",
   "execution_count": null,
   "metadata": {},
   "outputs": [],
   "source": []
  },
  {
   "cell_type": "code",
   "execution_count": 63,
   "metadata": {},
   "outputs": [
    {
     "name": "stdout",
     "output_type": "stream",
     "text": [
      "words tokensised:\n",
      " ['reuniting', 'in', 'the', 'present', 'the', 'avengers', 'place', 'the', 'stones', 'into', 'a', 'gauntlet', 'that', 'stark', 'banner', 'and', 'rocket', 'had', 'built']\n",
      "after removing stop_words:\n",
      " ['reuniting', 'present', 'avengers', 'place', 'stones', 'gauntlet', 'stark', 'banner', 'rocket', 'built']\n",
      "after lemmatisation:\n",
      " ['reuniting', 'present', 'avenger', 'place', 'stone', 'gauntlet', 'stark', 'banner', 'rocket', 'built']\n",
      "reformed clean_text:\n",
      " reuniting present avenger place stone gauntlet stark banner rocket built\n",
      "-----------\n",
      "words tokensised:\n",
      " ['having', 'the', 'most', 'resistance', 'to', 'their', 'radiation', 'banner', 'wields', 'the', 'gauntlet', 'and', 'reverses', 'thanos', 's', 'disintegrations']\n",
      "after removing stop_words:\n",
      " ['resistance', 'radiation', 'banner', 'wields', 'gauntlet', 'reverses', 'thanos', 'disintegrations']\n",
      "after lemmatisation:\n",
      " ['resistance', 'radiation', 'banner', 'wields', 'gauntlet', 'revers', 'thanos', 'disintegration']\n",
      "reformed clean_text:\n",
      " resistance radiation banner wields gauntlet revers thanos disintegration\n",
      "-----------\n",
      "words tokensised:\n",
      " ['meanwhile', 'nebula', 'impersonating', 'her', 'future', 'self', 'uses', 'the', 'time', 'machine', 'to', 'transport', 'thanos', 'and', 'his', 'warship', 'to', 'the', 'present', 'which', 'he', 'then', 'uses', 'to', 'destroy', 'the', 'avengers', 'compound']\n",
      "after removing stop_words:\n",
      " ['meanwhile', 'nebula', 'impersonating', 'future', 'self', 'uses', 'time', 'machine', 'transport', 'thanos', 'warship', 'present', 'uses', 'destroy', 'avengers', 'compound']\n",
      "after lemmatisation:\n",
      " ['meanwhile', 'nebula', 'impersonating', 'future', 'self', 'us', 'time', 'machine', 'transport', 'thanos', 'warship', 'present', 'us', 'destroy', 'avenger', 'compound']\n",
      "reformed clean_text:\n",
      " meanwhile nebula impersonating future self us time machine transport thanos warship present us destroy avenger compound\n",
      "-----------\n",
      "words tokensised:\n",
      " ['present', 'day', 'nebula', 'convinces', 'gamora', 'to', 'betray', 'thanos', 'but', 'is', 'unable', 'to', 'convince', 'nebula', 'and', 'kills', 'her']\n",
      "after removing stop_words:\n",
      " ['present', 'day', 'nebula', 'convinces', 'gamora', 'betray', 'thanos', 'unable', 'convince', 'nebula', 'kills']\n",
      "after lemmatisation:\n",
      " ['present', 'day', 'nebula', 'convinces', 'gamora', 'betray', 'thanos', 'unable', 'convince', 'nebula', 'kill']\n",
      "reformed clean_text:\n",
      " present day nebula convinces gamora betray thanos unable convince nebula kill\n",
      "-----------\n",
      "words tokensised:\n",
      " ['thanos', 'overpowers', 'stark', 'thor', 'and', 'a', 'mjolnir', 'wielding', 'rogers', 'and', 'summons', 'his', 'army', 'to', 'retrieve', 'the', 'stones', 'intent', 'on', 'using', 'them', 'to', 'destroy', 'the', 'universe', 'and', 'create', 'a', 'new', 'one']\n",
      "after removing stop_words:\n",
      " ['thanos', 'overpowers', 'stark', 'thor', 'mjolnir', 'wielding', 'rogers', 'summons', 'army', 'retrieve', 'stones', 'intent', 'using', 'destroy', 'universe', 'create', 'new', 'one']\n",
      "after lemmatisation:\n",
      " ['thanos', 'overpowers', 'stark', 'thor', 'mjolnir', 'wielding', 'rogers', 'summons', 'army', 'retrieve', 'stone', 'intent', 'using', 'destroy', 'universe', 'create', 'new', 'one']\n",
      "reformed clean_text:\n",
      " thanos overpowers stark thor mjolnir wielding rogers summons army retrieve stone intent using destroy universe create new one\n",
      "-----------\n",
      "words tokensised:\n",
      " ['a', 'restored', 'stephen', 'strange', 'arrives', 'with', 'other', 'sorcerers', 'the', 'restored', 'avengers', 'and', 'guardians', 'of', 'the', 'galaxy', 'the', 'ravagers', 'and', 'the', 'armies', 'of', 'wakanda', 'and', 'asgard', 'to', 'fight', 'thanos', 's', 'army']\n",
      "after removing stop_words:\n",
      " ['restored', 'stephen', 'strange', 'arrives', 'sorcerers', 'restored', 'avengers', 'guardians', 'galaxy', 'ravagers', 'armies', 'wakanda', 'asgard', 'fight', 'thanos', 'army']\n",
      "after lemmatisation:\n",
      " ['restored', 'stephen', 'strange', 'arrives', 'sorcerer', 'restored', 'avenger', 'guardian', 'galaxy', 'ravagers', 'army', 'wakanda', 'asgard', 'fight', 'thanos', 'army']\n",
      "reformed clean_text:\n",
      " restored stephen strange arrives sorcerer restored avenger guardian galaxy ravagers army wakanda asgard fight thanos army\n",
      "-----------\n",
      "words tokensised:\n",
      " ['danvers', 'also', 'arrives', 'and', 'destroys', 'thanos', 's', 'warship', 'but', 'thanos', 'overpowers', 'her', 'and', 'seizes', 'the', 'gauntlet']\n",
      "after removing stop_words:\n",
      " ['danvers', 'also', 'arrives', 'destroys', 'thanos', 'warship', 'thanos', 'overpowers', 'seizes', 'gauntlet']\n",
      "after lemmatisation:\n",
      " ['danvers', 'also', 'arrives', 'destroys', 'thanos', 'warship', 'thanos', 'overpowers', 'seizes', 'gauntlet']\n",
      "reformed clean_text:\n",
      " danvers also arrives destroys thanos warship thanos overpowers seizes gauntlet\n",
      "-----------\n",
      "words tokensised:\n",
      " ['stark', 'steals', 'the', 'stones', 'and', 'uses', 'them', 'to', 'disintegrate', 'thanos', 'and', 'his', 'army', 'at', 'the', 'cost', 'of', 'his', 'life']\n",
      "after removing stop_words:\n",
      " ['stark', 'steals', 'stones', 'uses', 'disintegrate', 'thanos', 'army', 'cost', 'life']\n",
      "after lemmatisation:\n",
      " ['stark', 'steal', 'stone', 'us', 'disintegrate', 'thanos', 'army', 'cost', 'life']\n",
      "reformed clean_text:\n",
      " stark steal stone us disintegrate thanos army cost life\n",
      "-----------\n"
     ]
    }
   ],
   "source": [
    "\n",
    "for text in sentences:\n",
    "    nlp_text_clean_pipeline(text)\n",
    "    print(\"-----------\")\n"
   ]
  },
  {
   "cell_type": "code",
   "execution_count": null,
   "metadata": {},
   "outputs": [],
   "source": []
  },
  {
   "cell_type": "code",
   "execution_count": null,
   "metadata": {},
   "outputs": [],
   "source": []
  },
  {
   "cell_type": "code",
   "execution_count": null,
   "metadata": {},
   "outputs": [],
   "source": []
  },
  {
   "cell_type": "code",
   "execution_count": null,
   "metadata": {},
   "outputs": [],
   "source": []
  },
  {
   "cell_type": "code",
   "execution_count": null,
   "metadata": {},
   "outputs": [],
   "source": []
  },
  {
   "cell_type": "code",
   "execution_count": null,
   "metadata": {},
   "outputs": [],
   "source": []
  },
  {
   "cell_type": "code",
   "execution_count": null,
   "metadata": {},
   "outputs": [],
   "source": []
  },
  {
   "cell_type": "code",
   "execution_count": null,
   "metadata": {},
   "outputs": [],
   "source": []
  },
  {
   "cell_type": "code",
   "execution_count": null,
   "metadata": {},
   "outputs": [],
   "source": []
  },
  {
   "cell_type": "code",
   "execution_count": null,
   "metadata": {},
   "outputs": [],
   "source": []
  },
  {
   "cell_type": "code",
   "execution_count": null,
   "metadata": {},
   "outputs": [],
   "source": []
  },
  {
   "cell_type": "code",
   "execution_count": null,
   "metadata": {},
   "outputs": [],
   "source": []
  },
  {
   "cell_type": "code",
   "execution_count": null,
   "metadata": {},
   "outputs": [],
   "source": []
  },
  {
   "cell_type": "code",
   "execution_count": null,
   "metadata": {},
   "outputs": [],
   "source": []
  },
  {
   "cell_type": "code",
   "execution_count": null,
   "metadata": {},
   "outputs": [],
   "source": []
  },
  {
   "cell_type": "code",
   "execution_count": null,
   "metadata": {},
   "outputs": [],
   "source": []
  },
  {
   "cell_type": "code",
   "execution_count": null,
   "metadata": {},
   "outputs": [],
   "source": []
  },
  {
   "cell_type": "code",
   "execution_count": null,
   "metadata": {},
   "outputs": [],
   "source": []
  },
  {
   "cell_type": "code",
   "execution_count": null,
   "metadata": {},
   "outputs": [],
   "source": []
  },
  {
   "cell_type": "code",
   "execution_count": null,
   "metadata": {},
   "outputs": [],
   "source": []
  },
  {
   "cell_type": "code",
   "execution_count": null,
   "metadata": {},
   "outputs": [],
   "source": []
  }
 ],
 "metadata": {
  "kernelspec": {
   "display_name": "Python 3.7.5",
   "language": "python",
   "name": "python3"
  },
  "language_info": {
   "codemirror_mode": {
    "name": "ipython",
    "version": 3
   },
   "file_extension": ".py",
   "mimetype": "text/x-python",
   "name": "python",
   "nbconvert_exporter": "python",
   "pygments_lexer": "ipython3",
   "version": "3.7.5"
  },
  "orig_nbformat": 4,
  "vscode": {
   "interpreter": {
    "hash": "0bc512a43f3de4d8a6649cfc91d8404324bb512d8e1df50bff7c5258dbc4d8af"
   }
  }
 },
 "nbformat": 4,
 "nbformat_minor": 2
}
