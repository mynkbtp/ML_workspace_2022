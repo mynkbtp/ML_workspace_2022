{
 "cells": [
  {
   "cell_type": "code",
   "execution_count": 2,
   "metadata": {},
   "outputs": [
    {
     "name": "stdout",
     "output_type": "stream",
     "text": [
      "Requirement already satisfied: kaggle in d:\\nlp_env\\lib\\site-packages (1.5.12)\n",
      "Requirement already satisfied: python-slugify in d:\\nlp_env\\lib\\site-packages (from kaggle) (6.1.2)\n",
      "Requirement already satisfied: python-dateutil in d:\\nlp_env\\lib\\site-packages (from kaggle) (2.8.1)\n",
      "Requirement already satisfied: requests in d:\\nlp_env\\lib\\site-packages (from kaggle) (2.22.0)\n",
      "Requirement already satisfied: six>=1.10 in d:\\nlp_env\\lib\\site-packages (from kaggle) (1.13.0)\n",
      "Requirement already satisfied: certifi in d:\\nlp_env\\lib\\site-packages (from kaggle) (2019.11.28)\n",
      "Requirement already satisfied: urllib3 in d:\\nlp_env\\lib\\site-packages (from kaggle) (1.25.7)\n",
      "Requirement already satisfied: tqdm in d:\\nlp_env\\lib\\site-packages (from kaggle) (4.40.2)\n",
      "Requirement already satisfied: text-unidecode>=1.3 in d:\\nlp_env\\lib\\site-packages (from python-slugify->kaggle) (1.3)\n",
      "Requirement already satisfied: idna<2.9,>=2.5 in d:\\nlp_env\\lib\\site-packages (from requests->kaggle) (2.8)\n",
      "Requirement already satisfied: chardet<3.1.0,>=3.0.2 in d:\\nlp_env\\lib\\site-packages (from requests->kaggle) (3.0.4)\n"
     ]
    }
   ],
   "source": [
    "!pip install kaggle"
   ]
  },
  {
   "cell_type": "code",
   "execution_count": 15,
   "metadata": {},
   "outputs": [
    {
     "name": "stdout",
     "output_type": "stream",
     "text": [
      "Collecting seaborn\n",
      "  Downloading https://files.pythonhosted.org/packages/10/5b/0479d7d845b5ba410ca702ffcd7f2cd95a14a4dfff1fde2637802b258b9b/seaborn-0.11.2-py3-none-any.whl (292kB)\n",
      "Requirement already satisfied: numpy>=1.15 in d:\\nlp_env\\lib\\site-packages (from seaborn) (1.15.4)\n",
      "Requirement already satisfied: scipy>=1.0 in d:\\nlp_env\\lib\\site-packages (from seaborn) (1.1.0)\n",
      "Requirement already satisfied: matplotlib>=2.2 in d:\\nlp_env\\lib\\site-packages (from seaborn) (3.0.1)\n",
      "Requirement already satisfied: pandas>=0.23 in d:\\nlp_env\\lib\\site-packages (from seaborn) (0.25.3)\n",
      "Requirement already satisfied: cycler>=0.10 in d:\\nlp_env\\lib\\site-packages (from matplotlib>=2.2->seaborn) (0.10.0)\n",
      "Requirement already satisfied: kiwisolver>=1.0.1 in d:\\nlp_env\\lib\\site-packages (from matplotlib>=2.2->seaborn) (1.1.0)\n",
      "Requirement already satisfied: pyparsing!=2.0.4,!=2.1.2,!=2.1.6,>=2.0.1 in d:\\nlp_env\\lib\\site-packages (from matplotlib>=2.2->seaborn) (2.4.5)\n",
      "Requirement already satisfied: python-dateutil>=2.1 in d:\\nlp_env\\lib\\site-packages (from matplotlib>=2.2->seaborn) (2.8.1)\n",
      "Requirement already satisfied: pytz>=2017.2 in d:\\nlp_env\\lib\\site-packages (from pandas>=0.23->seaborn) (2019.3)\n",
      "Requirement already satisfied: six in d:\\nlp_env\\lib\\site-packages (from cycler>=0.10->matplotlib>=2.2->seaborn) (1.13.0)\n",
      "Requirement already satisfied: setuptools in d:\\nlp_env\\lib\\site-packages (from kiwisolver>=1.0.1->matplotlib>=2.2->seaborn) (42.0.2.post20191203)\n",
      "Installing collected packages: seaborn\n",
      "Successfully installed seaborn-0.11.2\n"
     ]
    }
   ],
   "source": [
    "!pip install seaborn"
   ]
  },
  {
   "cell_type": "code",
   "execution_count": 3,
   "metadata": {},
   "outputs": [],
   "source": [
    "import kaggle\n",
    "from kaggle.api.kaggle_api_extended import KaggleApi\n",
    "\n",
    "api=KaggleApi()\n",
    "api.authenticate()"
   ]
  },
  {
   "cell_type": "code",
   "execution_count": 18,
   "metadata": {},
   "outputs": [
    {
     "name": "stdout",
     "output_type": "stream",
     "text": [
      "ref                                                            title                                               size  lastUpdated          downloadCount  voteCount  usabilityRating  \n",
      "-------------------------------------------------------------  -------------------------------------------------  -----  -------------------  -------------  ---------  ---------------  \n",
      "felixzhao/productdemandforecasting                             Forecasts for Product Demand                         5MB  2017-08-25 02:42:57          12833        291  0.88235295       \n",
      "knightbearr/sales-product-data                                 Sales Product Data                                   2MB  2021-11-04 19:38:08           5581         49  1.0              \n",
      "PromptCloudHQ/flipkart-products                                Flipkart Products                                    5MB  2017-09-15 09:35:02          12762        160  1.0              \n",
      "paramaggarwal/fashion-product-images-dataset                   Fashion Product Images Dataset                      23GB  2019-03-14 18:57:43          14499        341  0.5882353        \n",
      "saurav9786/amazon-product-reviews                              Amazon Product Reviews                             109MB  2020-01-14 13:25:53           5726         87  0.64705884       \n",
      "paramaggarwal/fashion-product-images-small                     Fashion Product Images (Small)                     565MB  2019-04-26 16:33:51          12576        218  0.5882353        \n",
      "josehenriqueroveda/fertilizers-by-product-fao                  Fertilizers by Product FAO                           1MB  2020-06-16 13:01:07           1246         42  1.0              \n",
      "diyer22/retail-product-checkout-dataset                        Retail Product Checkout Dataset                     25GB  2019-01-24 03:47:42           7170        188  0.75             \n",
      "srinivas1/agricuture-crops-production-in-india                 Agriculture Crop Production In India                23KB  2017-08-13 19:01:38          23035        273  0.85294116       \n",
      "datafiniti/consumer-reviews-of-amazon-products                 Consumer Reviews of Amazon Products                 16MB  2019-05-20 00:38:59          32770        393  0.7647059        \n",
      "arhamrumi/amazon-product-reviews                               Amazon Product Reviews                             115MB  2021-07-11 17:40:05           1067         18  1.0              \n",
      "olistbr/brazilian-ecommerce                                    Brazilian E-Commerce Public Dataset by Olist        43MB  2021-10-01 19:08:27         135292       2286  1.0              \n",
      "skillsmuggler/amazon-ratings                                   Amazon - Ratings (Beauty Products)                  29MB  2018-06-24 09:49:57           6605         81  1.0              \n",
      "ravirajsinh45/real-life-industrial-dataset-of-casting-product  casting product image data for quality inspection  100MB  2020-07-02 16:41:45           6386        216  0.875            \n",
      "abhinand05/crop-production-in-india                            Crop Production in India                             2MB  2019-11-12 07:20:18           5034         69  1.0              \n",
      "datafiniti/grammar-and-online-product-reviews                  Grammar and Online Product Reviews                   9MB  2018-02-15 17:20:27           3638        100  0.7058824        \n",
      "jessicali9530/honey-production                                 Honey Production in the USA (1998-2012)             24KB  2018-04-09 23:31:19          11098        224  0.85294116       \n",
      "yasserh/amazon-product-reviews-dataset                         Amazon Product Reviews Dataset                     708KB  2022-01-23 17:21:16           1863         52  1.0              \n",
      "PromptCloudHQ/toy-products-on-amazon                           Toy Products on Amazon                               8MB  2017-09-15 19:45:36           8752        129  1.0              \n",
      "akash14/product-sentiment-classification                       Product Sentiment Classification                   397KB  2020-09-27 20:11:54            550         24  1.0              \n"
     ]
    }
   ],
   "source": [
    "!kaggle datasets list -s 'product'"
   ]
  },
  {
   "cell_type": "code",
   "execution_count": 22,
   "metadata": {},
   "outputs": [
    {
     "name": "stderr",
     "output_type": "stream",
     "text": [
      "\n",
      "  0%|          | 0.00/77.2M [00:00<?, ?B/s]\n",
      "  1%|▏         | 1.00M/77.2M [00:00<00:19, 4.01MB/s]\n",
      "  3%|▎         | 2.00M/77.2M [00:00<00:20, 3.91MB/s]\n",
      "  4%|▍         | 3.00M/77.2M [00:00<00:20, 3.82MB/s]\n",
      "  5%|▌         | 4.00M/77.2M [00:01<00:20, 3.66MB/s]\n",
      "  6%|▋         | 5.00M/77.2M [00:01<00:19, 3.79MB/s]\n",
      "  8%|▊         | 6.00M/77.2M [00:01<00:20, 3.63MB/s]\n",
      "  9%|▉         | 7.00M/77.2M [00:01<00:19, 3.74MB/s]\n",
      " 10%|█         | 8.00M/77.2M [00:02<00:19, 3.72MB/s]\n",
      " 12%|█▏        | 9.00M/77.2M [00:02<00:19, 3.70MB/s]\n",
      " 13%|█▎        | 10.0M/77.2M [00:02<00:19, 3.69MB/s]\n",
      " 14%|█▍        | 11.0M/77.2M [00:03<00:18, 3.69MB/s]\n",
      " 16%|█▌        | 12.0M/77.2M [00:03<00:18, 3.68MB/s]\n",
      " 17%|█▋        | 13.0M/77.2M [00:03<00:18, 3.66MB/s]\n",
      " 18%|█▊        | 14.0M/77.2M [00:03<00:17, 3.69MB/s]\n",
      " 19%|█▉        | 15.0M/77.2M [00:04<00:17, 3.66MB/s]\n",
      " 21%|██        | 16.0M/77.2M [00:04<00:17, 3.62MB/s]\n",
      " 22%|██▏       | 17.0M/77.2M [00:04<00:17, 3.67MB/s]\n",
      " 23%|██▎       | 18.0M/77.2M [00:05<00:16, 3.69MB/s]\n",
      " 25%|██▍       | 19.0M/77.2M [00:05<00:16, 3.68MB/s]\n",
      " 26%|██▌       | 20.0M/77.2M [00:05<00:16, 3.63MB/s]\n",
      " 27%|██▋       | 21.0M/77.2M [00:05<00:15, 3.69MB/s]\n",
      " 29%|██▊       | 22.0M/77.2M [00:06<00:17, 3.30MB/s]"
     ]
    },
    {
     "name": "stdout",
     "output_type": "stream",
     "text": [
      "Downloading rotten-tomatoes-movies-and-critic-reviews-dataset.zip to d:\\ML_2022\\ML_workspace_2022\\NLP\n",
      "\n"
     ]
    },
    {
     "name": "stderr",
     "output_type": "stream",
     "text": [
      "\n",
      " 30%|██▉       | 23.0M/77.2M [00:06<00:17, 3.33MB/s]\n",
      " 31%|███       | 24.0M/77.2M [00:06<00:16, 3.45MB/s]\n",
      " 32%|███▏      | 25.0M/77.2M [00:07<00:15, 3.53MB/s]\n",
      " 34%|███▎      | 26.0M/77.2M [00:07<00:15, 3.57MB/s]\n",
      " 35%|███▍      | 27.0M/77.2M [00:07<00:14, 3.58MB/s]\n",
      " 36%|███▋      | 28.0M/77.2M [00:08<00:14, 3.60MB/s]\n",
      " 38%|███▊      | 29.0M/77.2M [00:08<00:13, 3.63MB/s]\n",
      " 39%|███▉      | 30.0M/77.2M [00:08<00:13, 3.63MB/s]\n",
      " 40%|████      | 31.0M/77.2M [00:08<00:13, 3.65MB/s]\n",
      " 41%|████▏     | 32.0M/77.2M [00:09<00:13, 3.55MB/s]\n",
      " 43%|████▎     | 33.0M/77.2M [00:09<00:12, 3.58MB/s]\n",
      " 44%|████▍     | 34.0M/77.2M [00:09<00:13, 3.34MB/s]\n",
      " 45%|████▌     | 35.0M/77.2M [00:10<00:12, 3.47MB/s]\n",
      " 47%|████▋     | 36.0M/77.2M [00:10<00:12, 3.53MB/s]\n",
      " 48%|████▊     | 37.0M/77.2M [00:10<00:11, 3.56MB/s]\n",
      " 49%|████▉     | 38.0M/77.2M [00:11<00:11, 3.48MB/s]\n",
      " 51%|█████     | 39.0M/77.2M [00:11<00:11, 3.54MB/s]\n",
      " 52%|█████▏    | 40.0M/77.2M [00:11<00:10, 3.67MB/s]\n",
      " 53%|█████▎    | 41.0M/77.2M [00:11<00:10, 3.67MB/s]\n",
      " 54%|█████▍    | 42.0M/77.2M [00:12<00:10, 3.66MB/s]\n",
      " 56%|█████▌    | 43.0M/77.2M [00:12<00:09, 3.64MB/s]\n",
      " 57%|█████▋    | 44.0M/77.2M [00:12<00:09, 3.66MB/s]\n",
      " 58%|█████▊    | 45.0M/77.2M [00:13<00:09, 3.67MB/s]\n",
      " 60%|█████▉    | 46.0M/77.2M [00:13<00:09, 3.63MB/s]\n",
      " 61%|██████    | 47.0M/77.2M [00:13<00:09, 3.50MB/s]\n",
      " 62%|██████▏   | 48.0M/77.2M [00:13<00:08, 3.63MB/s]\n",
      " 63%|██████▎   | 49.0M/77.2M [00:14<00:08, 3.59MB/s]\n",
      " 65%|██████▍   | 50.0M/77.2M [00:14<00:07, 3.59MB/s]\n",
      " 66%|██████▌   | 51.0M/77.2M [00:14<00:07, 3.60MB/s]\n",
      " 67%|██████▋   | 52.0M/77.2M [00:15<00:08, 3.29MB/s]\n",
      " 69%|██████▊   | 53.0M/77.2M [00:15<00:07, 3.39MB/s]\n",
      " 70%|██████▉   | 54.0M/77.2M [00:15<00:07, 3.47MB/s]\n",
      " 71%|███████▏  | 55.0M/77.2M [00:16<00:06, 3.53MB/s]\n",
      " 73%|███████▎  | 56.0M/77.2M [00:16<00:06, 3.58MB/s]\n",
      " 74%|███████▍  | 57.0M/77.2M [00:16<00:05, 3.59MB/s]\n",
      " 75%|███████▌  | 58.0M/77.2M [00:16<00:05, 3.62MB/s]\n",
      " 76%|███████▋  | 59.0M/77.2M [00:17<00:05, 3.63MB/s]\n",
      " 78%|███████▊  | 60.0M/77.2M [00:17<00:04, 3.64MB/s]\n",
      " 79%|███████▉  | 61.0M/77.2M [00:17<00:04, 3.64MB/s]\n",
      " 80%|████████  | 62.0M/77.2M [00:18<00:04, 3.66MB/s]\n",
      " 82%|████████▏ | 63.0M/77.2M [00:18<00:04, 3.65MB/s]\n",
      " 83%|████████▎ | 64.0M/77.2M [00:18<00:03, 3.66MB/s]\n",
      " 84%|████████▍ | 65.0M/77.2M [00:18<00:03, 3.65MB/s]\n",
      " 86%|████████▌ | 66.0M/77.2M [00:19<00:03, 3.60MB/s]\n",
      " 87%|████████▋ | 67.0M/77.2M [00:19<00:03, 3.45MB/s]\n",
      " 88%|████████▊ | 68.0M/77.2M [00:19<00:02, 3.26MB/s]\n",
      " 89%|████████▉ | 69.0M/77.2M [00:20<00:03, 2.83MB/s]\n",
      " 91%|█████████ | 70.0M/77.2M [00:20<00:02, 3.10MB/s]\n",
      " 92%|█████████▏| 71.0M/77.2M [00:20<00:01, 3.25MB/s]\n",
      " 93%|█████████▎| 72.0M/77.2M [00:21<00:01, 3.33MB/s]\n",
      " 95%|█████████▍| 73.0M/77.2M [00:21<00:01, 3.46MB/s]\n",
      " 96%|█████████▌| 74.0M/77.2M [00:21<00:00, 3.48MB/s]\n",
      " 97%|█████████▋| 75.0M/77.2M [00:22<00:00, 3.53MB/s]\n",
      " 98%|█████████▊| 76.0M/77.2M [00:22<00:00, 3.58MB/s]\n",
      "100%|█████████▉| 77.0M/77.2M [00:22<00:00, 3.57MB/s]\n",
      "100%|██████████| 77.2M/77.2M [00:22<00:00, 3.56MB/s]\n"
     ]
    }
   ],
   "source": [
    "!kaggle datasets download -d stefanoleone992/rotten-tomatoes-movies-and-critic-reviews-dataset"
   ]
  },
  {
   "cell_type": "code",
   "execution_count": 36,
   "metadata": {},
   "outputs": [],
   "source": [
    "import pandas as pd\n",
    "import numpy as np\n",
    "import nltk\n",
    "import seaborn as sns\n",
    "from matplotlib import pyplot as plt\n"
   ]
  },
  {
   "cell_type": "code",
   "execution_count": 7,
   "metadata": {},
   "outputs": [
    {
     "name": "stdout",
     "output_type": "stream",
     "text": [
      "(17712, 22)\n"
     ]
    },
    {
     "data": {
      "text/html": [
       "<div>\n",
       "<style scoped>\n",
       "    .dataframe tbody tr th:only-of-type {\n",
       "        vertical-align: middle;\n",
       "    }\n",
       "\n",
       "    .dataframe tbody tr th {\n",
       "        vertical-align: top;\n",
       "    }\n",
       "\n",
       "    .dataframe thead th {\n",
       "        text-align: right;\n",
       "    }\n",
       "</style>\n",
       "<table border=\"1\" class=\"dataframe\">\n",
       "  <thead>\n",
       "    <tr style=\"text-align: right;\">\n",
       "      <th></th>\n",
       "      <th>rotten_tomatoes_link</th>\n",
       "      <th>movie_title</th>\n",
       "      <th>movie_info</th>\n",
       "      <th>critics_consensus</th>\n",
       "      <th>content_rating</th>\n",
       "      <th>genres</th>\n",
       "      <th>directors</th>\n",
       "      <th>authors</th>\n",
       "      <th>actors</th>\n",
       "      <th>original_release_date</th>\n",
       "      <th>...</th>\n",
       "      <th>production_company</th>\n",
       "      <th>tomatometer_status</th>\n",
       "      <th>tomatometer_rating</th>\n",
       "      <th>tomatometer_count</th>\n",
       "      <th>audience_status</th>\n",
       "      <th>audience_rating</th>\n",
       "      <th>audience_count</th>\n",
       "      <th>tomatometer_top_critics_count</th>\n",
       "      <th>tomatometer_fresh_critics_count</th>\n",
       "      <th>tomatometer_rotten_critics_count</th>\n",
       "    </tr>\n",
       "  </thead>\n",
       "  <tbody>\n",
       "    <tr>\n",
       "      <th>0</th>\n",
       "      <td>m/0814255</td>\n",
       "      <td>Percy Jackson &amp; the Olympians: The Lightning T...</td>\n",
       "      <td>Always trouble-prone, the life of teenager Per...</td>\n",
       "      <td>Though it may seem like just another Harry Pot...</td>\n",
       "      <td>PG</td>\n",
       "      <td>Action &amp; Adventure, Comedy, Drama, Science Fic...</td>\n",
       "      <td>Chris Columbus</td>\n",
       "      <td>Craig Titley, Chris Columbus, Rick Riordan</td>\n",
       "      <td>Logan Lerman, Brandon T. Jackson, Alexandra Da...</td>\n",
       "      <td>2010-02-12</td>\n",
       "      <td>...</td>\n",
       "      <td>20th Century Fox</td>\n",
       "      <td>Rotten</td>\n",
       "      <td>49.0</td>\n",
       "      <td>149.0</td>\n",
       "      <td>Spilled</td>\n",
       "      <td>53.0</td>\n",
       "      <td>254421.0</td>\n",
       "      <td>43</td>\n",
       "      <td>73</td>\n",
       "      <td>76</td>\n",
       "    </tr>\n",
       "    <tr>\n",
       "      <th>1</th>\n",
       "      <td>m/0878835</td>\n",
       "      <td>Please Give</td>\n",
       "      <td>Kate (Catherine Keener) and her husband Alex (...</td>\n",
       "      <td>Nicole Holofcener's newest might seem slight i...</td>\n",
       "      <td>R</td>\n",
       "      <td>Comedy</td>\n",
       "      <td>Nicole Holofcener</td>\n",
       "      <td>Nicole Holofcener</td>\n",
       "      <td>Catherine Keener, Amanda Peet, Oliver Platt, R...</td>\n",
       "      <td>2010-04-30</td>\n",
       "      <td>...</td>\n",
       "      <td>Sony Pictures Classics</td>\n",
       "      <td>Certified-Fresh</td>\n",
       "      <td>87.0</td>\n",
       "      <td>142.0</td>\n",
       "      <td>Upright</td>\n",
       "      <td>64.0</td>\n",
       "      <td>11574.0</td>\n",
       "      <td>44</td>\n",
       "      <td>123</td>\n",
       "      <td>19</td>\n",
       "    </tr>\n",
       "    <tr>\n",
       "      <th>2</th>\n",
       "      <td>m/10</td>\n",
       "      <td>10</td>\n",
       "      <td>A successful, middle-aged Hollywood songwriter...</td>\n",
       "      <td>Blake Edwards' bawdy comedy may not score a pe...</td>\n",
       "      <td>R</td>\n",
       "      <td>Comedy, Romance</td>\n",
       "      <td>Blake Edwards</td>\n",
       "      <td>Blake Edwards</td>\n",
       "      <td>Dudley Moore, Bo Derek, Julie Andrews, Robert ...</td>\n",
       "      <td>1979-10-05</td>\n",
       "      <td>...</td>\n",
       "      <td>Waner Bros.</td>\n",
       "      <td>Fresh</td>\n",
       "      <td>67.0</td>\n",
       "      <td>24.0</td>\n",
       "      <td>Spilled</td>\n",
       "      <td>53.0</td>\n",
       "      <td>14684.0</td>\n",
       "      <td>2</td>\n",
       "      <td>16</td>\n",
       "      <td>8</td>\n",
       "    </tr>\n",
       "    <tr>\n",
       "      <th>3</th>\n",
       "      <td>m/1000013-12_angry_men</td>\n",
       "      <td>12 Angry Men (Twelve Angry Men)</td>\n",
       "      <td>Following the closing arguments in a murder tr...</td>\n",
       "      <td>Sidney Lumet's feature debut is a superbly wri...</td>\n",
       "      <td>NR</td>\n",
       "      <td>Classics, Drama</td>\n",
       "      <td>Sidney Lumet</td>\n",
       "      <td>Reginald Rose</td>\n",
       "      <td>Martin Balsam, John Fiedler, Lee J. Cobb, E.G....</td>\n",
       "      <td>1957-04-13</td>\n",
       "      <td>...</td>\n",
       "      <td>Criterion Collection</td>\n",
       "      <td>Certified-Fresh</td>\n",
       "      <td>100.0</td>\n",
       "      <td>54.0</td>\n",
       "      <td>Upright</td>\n",
       "      <td>97.0</td>\n",
       "      <td>105386.0</td>\n",
       "      <td>6</td>\n",
       "      <td>54</td>\n",
       "      <td>0</td>\n",
       "    </tr>\n",
       "    <tr>\n",
       "      <th>4</th>\n",
       "      <td>m/1000079-20000_leagues_under_the_sea</td>\n",
       "      <td>20,000 Leagues Under The Sea</td>\n",
       "      <td>In 1866, Professor Pierre M. Aronnax (Paul Luk...</td>\n",
       "      <td>One of Disney's finest live-action adventures,...</td>\n",
       "      <td>G</td>\n",
       "      <td>Action &amp; Adventure, Drama, Kids &amp; Family</td>\n",
       "      <td>Richard Fleischer</td>\n",
       "      <td>Earl Felton</td>\n",
       "      <td>James Mason, Kirk Douglas, Paul Lukas, Peter L...</td>\n",
       "      <td>1954-01-01</td>\n",
       "      <td>...</td>\n",
       "      <td>Disney</td>\n",
       "      <td>Fresh</td>\n",
       "      <td>89.0</td>\n",
       "      <td>27.0</td>\n",
       "      <td>Upright</td>\n",
       "      <td>74.0</td>\n",
       "      <td>68918.0</td>\n",
       "      <td>5</td>\n",
       "      <td>24</td>\n",
       "      <td>3</td>\n",
       "    </tr>\n",
       "  </tbody>\n",
       "</table>\n",
       "<p>5 rows × 22 columns</p>\n",
       "</div>"
      ],
      "text/plain": [
       "                    rotten_tomatoes_link  \\\n",
       "0                              m/0814255   \n",
       "1                              m/0878835   \n",
       "2                                   m/10   \n",
       "3                 m/1000013-12_angry_men   \n",
       "4  m/1000079-20000_leagues_under_the_sea   \n",
       "\n",
       "                                         movie_title  \\\n",
       "0  Percy Jackson & the Olympians: The Lightning T...   \n",
       "1                                        Please Give   \n",
       "2                                                 10   \n",
       "3                    12 Angry Men (Twelve Angry Men)   \n",
       "4                       20,000 Leagues Under The Sea   \n",
       "\n",
       "                                          movie_info  \\\n",
       "0  Always trouble-prone, the life of teenager Per...   \n",
       "1  Kate (Catherine Keener) and her husband Alex (...   \n",
       "2  A successful, middle-aged Hollywood songwriter...   \n",
       "3  Following the closing arguments in a murder tr...   \n",
       "4  In 1866, Professor Pierre M. Aronnax (Paul Luk...   \n",
       "\n",
       "                                   critics_consensus content_rating  \\\n",
       "0  Though it may seem like just another Harry Pot...             PG   \n",
       "1  Nicole Holofcener's newest might seem slight i...              R   \n",
       "2  Blake Edwards' bawdy comedy may not score a pe...              R   \n",
       "3  Sidney Lumet's feature debut is a superbly wri...             NR   \n",
       "4  One of Disney's finest live-action adventures,...              G   \n",
       "\n",
       "                                              genres          directors  \\\n",
       "0  Action & Adventure, Comedy, Drama, Science Fic...     Chris Columbus   \n",
       "1                                             Comedy  Nicole Holofcener   \n",
       "2                                    Comedy, Romance      Blake Edwards   \n",
       "3                                    Classics, Drama       Sidney Lumet   \n",
       "4           Action & Adventure, Drama, Kids & Family  Richard Fleischer   \n",
       "\n",
       "                                      authors  \\\n",
       "0  Craig Titley, Chris Columbus, Rick Riordan   \n",
       "1                           Nicole Holofcener   \n",
       "2                               Blake Edwards   \n",
       "3                               Reginald Rose   \n",
       "4                                 Earl Felton   \n",
       "\n",
       "                                              actors original_release_date  \\\n",
       "0  Logan Lerman, Brandon T. Jackson, Alexandra Da...            2010-02-12   \n",
       "1  Catherine Keener, Amanda Peet, Oliver Platt, R...            2010-04-30   \n",
       "2  Dudley Moore, Bo Derek, Julie Andrews, Robert ...            1979-10-05   \n",
       "3  Martin Balsam, John Fiedler, Lee J. Cobb, E.G....            1957-04-13   \n",
       "4  James Mason, Kirk Douglas, Paul Lukas, Peter L...            1954-01-01   \n",
       "\n",
       "   ...      production_company  tomatometer_status tomatometer_rating  \\\n",
       "0  ...        20th Century Fox              Rotten               49.0   \n",
       "1  ...  Sony Pictures Classics     Certified-Fresh               87.0   \n",
       "2  ...             Waner Bros.               Fresh               67.0   \n",
       "3  ...    Criterion Collection     Certified-Fresh              100.0   \n",
       "4  ...                  Disney               Fresh               89.0   \n",
       "\n",
       "  tomatometer_count  audience_status  audience_rating audience_count  \\\n",
       "0             149.0          Spilled             53.0       254421.0   \n",
       "1             142.0          Upright             64.0        11574.0   \n",
       "2              24.0          Spilled             53.0        14684.0   \n",
       "3              54.0          Upright             97.0       105386.0   \n",
       "4              27.0          Upright             74.0        68918.0   \n",
       "\n",
       "   tomatometer_top_critics_count  tomatometer_fresh_critics_count  \\\n",
       "0                             43                               73   \n",
       "1                             44                              123   \n",
       "2                              2                               16   \n",
       "3                              6                               54   \n",
       "4                              5                               24   \n",
       "\n",
       "   tomatometer_rotten_critics_count  \n",
       "0                                76  \n",
       "1                                19  \n",
       "2                                 8  \n",
       "3                                 0  \n",
       "4                                 3  \n",
       "\n",
       "[5 rows x 22 columns]"
      ]
     },
     "execution_count": 7,
     "metadata": {},
     "output_type": "execute_result"
    }
   ],
   "source": [
    "movies_df = pd.read_csv(\"D:/ML_2022/ML_workspace_2022/NLP/NLP_data/rotten_tomatoes_movies.csv\")\n",
    "print(movies_df.shape)\n",
    "movies_df.head(5)"
   ]
  },
  {
   "cell_type": "code",
   "execution_count": 10,
   "metadata": {},
   "outputs": [
    {
     "name": "stdout",
     "output_type": "stream",
     "text": [
      "(1130017, 8)\n"
     ]
    },
    {
     "data": {
      "text/html": [
       "<div>\n",
       "<style scoped>\n",
       "    .dataframe tbody tr th:only-of-type {\n",
       "        vertical-align: middle;\n",
       "    }\n",
       "\n",
       "    .dataframe tbody tr th {\n",
       "        vertical-align: top;\n",
       "    }\n",
       "\n",
       "    .dataframe thead th {\n",
       "        text-align: right;\n",
       "    }\n",
       "</style>\n",
       "<table border=\"1\" class=\"dataframe\">\n",
       "  <thead>\n",
       "    <tr style=\"text-align: right;\">\n",
       "      <th></th>\n",
       "      <th>rotten_tomatoes_link</th>\n",
       "      <th>critic_name</th>\n",
       "      <th>top_critic</th>\n",
       "      <th>publisher_name</th>\n",
       "      <th>review_type</th>\n",
       "      <th>review_score</th>\n",
       "      <th>review_date</th>\n",
       "      <th>review_content</th>\n",
       "    </tr>\n",
       "  </thead>\n",
       "  <tbody>\n",
       "    <tr>\n",
       "      <th>0</th>\n",
       "      <td>m/0814255</td>\n",
       "      <td>Andrew L. Urban</td>\n",
       "      <td>False</td>\n",
       "      <td>Urban Cinefile</td>\n",
       "      <td>Fresh</td>\n",
       "      <td>NaN</td>\n",
       "      <td>2010-02-06</td>\n",
       "      <td>A fantasy adventure that fuses Greek mythology...</td>\n",
       "    </tr>\n",
       "    <tr>\n",
       "      <th>1</th>\n",
       "      <td>m/0814255</td>\n",
       "      <td>Louise Keller</td>\n",
       "      <td>False</td>\n",
       "      <td>Urban Cinefile</td>\n",
       "      <td>Fresh</td>\n",
       "      <td>NaN</td>\n",
       "      <td>2010-02-06</td>\n",
       "      <td>Uma Thurman as Medusa, the gorgon with a coiff...</td>\n",
       "    </tr>\n",
       "    <tr>\n",
       "      <th>2</th>\n",
       "      <td>m/0814255</td>\n",
       "      <td>NaN</td>\n",
       "      <td>False</td>\n",
       "      <td>FILMINK (Australia)</td>\n",
       "      <td>Fresh</td>\n",
       "      <td>NaN</td>\n",
       "      <td>2010-02-09</td>\n",
       "      <td>With a top-notch cast and dazzling special eff...</td>\n",
       "    </tr>\n",
       "    <tr>\n",
       "      <th>3</th>\n",
       "      <td>m/0814255</td>\n",
       "      <td>Ben McEachen</td>\n",
       "      <td>False</td>\n",
       "      <td>Sunday Mail (Australia)</td>\n",
       "      <td>Fresh</td>\n",
       "      <td>3.5/5</td>\n",
       "      <td>2010-02-09</td>\n",
       "      <td>Whether audiences will get behind The Lightnin...</td>\n",
       "    </tr>\n",
       "    <tr>\n",
       "      <th>4</th>\n",
       "      <td>m/0814255</td>\n",
       "      <td>Ethan Alter</td>\n",
       "      <td>True</td>\n",
       "      <td>Hollywood Reporter</td>\n",
       "      <td>Rotten</td>\n",
       "      <td>NaN</td>\n",
       "      <td>2010-02-10</td>\n",
       "      <td>What's really lacking in The Lightning Thief i...</td>\n",
       "    </tr>\n",
       "  </tbody>\n",
       "</table>\n",
       "</div>"
      ],
      "text/plain": [
       "  rotten_tomatoes_link      critic_name  top_critic           publisher_name  \\\n",
       "0            m/0814255  Andrew L. Urban       False           Urban Cinefile   \n",
       "1            m/0814255    Louise Keller       False           Urban Cinefile   \n",
       "2            m/0814255              NaN       False      FILMINK (Australia)   \n",
       "3            m/0814255     Ben McEachen       False  Sunday Mail (Australia)   \n",
       "4            m/0814255      Ethan Alter        True       Hollywood Reporter   \n",
       "\n",
       "  review_type review_score review_date  \\\n",
       "0       Fresh          NaN  2010-02-06   \n",
       "1       Fresh          NaN  2010-02-06   \n",
       "2       Fresh          NaN  2010-02-09   \n",
       "3       Fresh        3.5/5  2010-02-09   \n",
       "4      Rotten          NaN  2010-02-10   \n",
       "\n",
       "                                      review_content  \n",
       "0  A fantasy adventure that fuses Greek mythology...  \n",
       "1  Uma Thurman as Medusa, the gorgon with a coiff...  \n",
       "2  With a top-notch cast and dazzling special eff...  \n",
       "3  Whether audiences will get behind The Lightnin...  \n",
       "4  What's really lacking in The Lightning Thief i...  "
      ]
     },
     "execution_count": 10,
     "metadata": {},
     "output_type": "execute_result"
    }
   ],
   "source": [
    "reviews_df = pd.read_csv(\"D:/ML_2022/ML_workspace_2022/NLP/NLP_data/rotten_tomatoes_critic_reviews.csv\")\n",
    "print(reviews_df.shape)\n",
    "reviews_df.head(5)"
   ]
  },
  {
   "cell_type": "code",
   "execution_count": 11,
   "metadata": {},
   "outputs": [
    {
     "name": "stdout",
     "output_type": "stream",
     "text": [
      "movies df columns:\n",
      " ['rotten_tomatoes_link', 'movie_title', 'movie_info', 'critics_consensus', 'content_rating', 'genres', 'directors', 'authors', 'actors', 'original_release_date', 'streaming_release_date', 'runtime', 'production_company', 'tomatometer_status', 'tomatometer_rating', 'tomatometer_count', 'audience_status', 'audience_rating', 'audience_count', 'tomatometer_top_critics_count', 'tomatometer_fresh_critics_count', 'tomatometer_rotten_critics_count']\n",
      "-----------------\n",
      "reviews df columns:\n",
      " ['rotten_tomatoes_link', 'critic_name', 'top_critic', 'publisher_name', 'review_type', 'review_score', 'review_date', 'review_content']\n"
     ]
    }
   ],
   "source": [
    "print(\"movies df columns:\\n\",list(movies_df.columns))\n",
    "print(\"-----------------\")\n",
    "print(\"reviews df columns:\\n\",list(reviews_df.columns))"
   ]
  },
  {
   "cell_type": "code",
   "execution_count": 13,
   "metadata": {},
   "outputs": [
    {
     "data": {
      "text/plain": [
       "{'rotten_tomatoes_link'}"
      ]
     },
     "execution_count": 13,
     "metadata": {},
     "output_type": "execute_result"
    }
   ],
   "source": [
    "set(list(movies_df.columns)) & set(list(reviews_df.columns))"
   ]
  },
  {
   "cell_type": "code",
   "execution_count": 23,
   "metadata": {},
   "outputs": [
    {
     "data": {
      "text/plain": [
       "2002-01-01    29\n",
       "2000-01-01    25\n",
       "1988-01-01    25\n",
       "2003-01-01    25\n",
       "2001-01-01    24\n",
       "              ..\n",
       "1966-10-18     1\n",
       "2013-02-05     1\n",
       "1955-06-01     1\n",
       "1940-08-09     1\n",
       "2012-11-06     1\n",
       "Name: original_release_date, Length: 5804, dtype: int64"
      ]
     },
     "execution_count": 23,
     "metadata": {},
     "output_type": "execute_result"
    }
   ],
   "source": [
    "movies_df.original_release_date.value_counts()\n",
    "\n"
   ]
  },
  {
   "cell_type": "code",
   "execution_count": 26,
   "metadata": {},
   "outputs": [
    {
     "name": "stdout",
     "output_type": "stream",
     "text": [
      "Extracting year from datetime 2000-01-01:  2000\n"
     ]
    }
   ],
   "source": [
    "print(\"Extracting year from datetime 2000-01-01: \",pd.to_datetime(\"2000-01-01\").year)"
   ]
  },
  {
   "cell_type": "code",
   "execution_count": 31,
   "metadata": {},
   "outputs": [
    {
     "data": {
      "text/plain": [
       "2014.0    745\n",
       "2013.0    704\n",
       "2012.0    669\n",
       "2015.0    650\n",
       "2018.0    649\n",
       "         ... \n",
       "1919.0      2\n",
       "1921.0      2\n",
       "1915.0      2\n",
       "1914.0      1\n",
       "1916.0      1\n",
       "Name: release_year, Length: 105, dtype: int64"
      ]
     },
     "execution_count": 31,
     "metadata": {},
     "output_type": "execute_result"
    }
   ],
   "source": [
    "movies_df[\"original_release_date\"]= pd.to_datetime(movies_df.original_release_date)\n",
    "movies_df[\"release_year\"] = movies_df.original_release_date.apply(lambda x:x.year)\n",
    "movies_df.release_year.value_counts()\n"
   ]
  },
  {
   "cell_type": "code",
   "execution_count": 48,
   "metadata": {},
   "outputs": [
    {
     "data": {
      "text/plain": [
       "<seaborn.axisgrid.FacetGrid at 0x2515edb9808>"
      ]
     },
     "execution_count": 48,
     "metadata": {},
     "output_type": "execute_result"
    },
    {
     "data": {
      "image/png": "[encoded data removed]",
      "text/plain": [
       "<Figure size 360x360 with 1 Axes>"
      ]
     },
     "metadata": {},
     "output_type": "display_data"
    }
   ],
   "source": [
    "sns.set(rc={\"figure.figsize\":(55,15)})\n",
    "# drawing the plot\n",
    "sns.displot(data=movies_df.release_year)\n",
    "# plt.show()"
   ]
  },
  {
   "cell_type": "markdown",
   "metadata": {},
   "source": []
  },
  {
   "cell_type": "code",
   "execution_count": null,
   "metadata": {},
   "outputs": [],
   "source": []
  },
  {
   "cell_type": "code",
   "execution_count": null,
   "metadata": {},
   "outputs": [],
   "source": []
  },
  {
   "cell_type": "code",
   "execution_count": null,
   "metadata": {},
   "outputs": [],
   "source": []
  },
  {
   "cell_type": "code",
   "execution_count": null,
   "metadata": {},
   "outputs": [],
   "source": []
  },
  {
   "cell_type": "code",
   "execution_count": null,
   "metadata": {},
   "outputs": [],
   "source": []
  },
  {
   "cell_type": "code",
   "execution_count": null,
   "metadata": {},
   "outputs": [],
   "source": []
  },
  {
   "cell_type": "code",
   "execution_count": null,
   "metadata": {},
   "outputs": [],
   "source": []
  },
  {
   "cell_type": "code",
   "execution_count": null,
   "metadata": {},
   "outputs": [],
   "source": []
  },
  {
   "cell_type": "code",
   "execution_count": null,
   "metadata": {},
   "outputs": [],
   "source": []
  },
  {
   "cell_type": "code",
   "execution_count": null,
   "metadata": {},
   "outputs": [],
   "source": []
  },
  {
   "cell_type": "code",
   "execution_count": null,
   "metadata": {},
   "outputs": [],
   "source": []
  },
  {
   "cell_type": "code",
   "execution_count": null,
   "metadata": {},
   "outputs": [],
   "source": []
  },
  {
   "cell_type": "code",
   "execution_count": null,
   "metadata": {},
   "outputs": [],
   "source": []
  },
  {
   "cell_type": "code",
   "execution_count": null,
   "metadata": {},
   "outputs": [],
   "source": []
  },
  {
   "cell_type": "code",
   "execution_count": null,
   "metadata": {},
   "outputs": [],
   "source": []
  },
  {
   "cell_type": "code",
   "execution_count": null,
   "metadata": {},
   "outputs": [],
   "source": []
  },
  {
   "cell_type": "code",
   "execution_count": null,
   "metadata": {},
   "outputs": [],
   "source": []
  },
  {
   "cell_type": "code",
   "execution_count": null,
   "metadata": {},
   "outputs": [],
   "source": []
  },
  {
   "cell_type": "code",
   "execution_count": null,
   "metadata": {},
   "outputs": [],
   "source": []
  },
  {
   "cell_type": "code",
   "execution_count": null,
   "metadata": {},
   "outputs": [],
   "source": []
  }
 ],
 "metadata": {
  "kernelspec": {
   "display_name": "Python 3.7.5",
   "language": "python",
   "name": "python3"
  },
  "language_info": {
   "codemirror_mode": {
    "name": "ipython",
    "version": 3
   },
   "file_extension": ".py",
   "mimetype": "text/x-python",
   "name": "python",
   "nbconvert_exporter": "python",
   "pygments_lexer": "ipython3",
   "version": "3.7.5"
  },
  "orig_nbformat": 4,
  "vscode": {
   "interpreter": {
    "hash": "0bc512a43f3de4d8a6649cfc91d8404324bb512d8e1df50bff7c5258dbc4d8af"
   }
  }
 },
 "nbformat": 4,
 "nbformat_minor": 2
}
